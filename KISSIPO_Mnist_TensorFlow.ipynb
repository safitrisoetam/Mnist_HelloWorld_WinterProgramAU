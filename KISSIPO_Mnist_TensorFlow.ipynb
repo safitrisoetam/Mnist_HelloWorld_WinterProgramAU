{
  "nbformat": 4,
  "nbformat_minor": 0,
  "metadata": {
    "colab": {
      "name": "P2-0115_AuliyahSafitri_TensorFlow.ipynb",
      "provenance": [],
      "collapsed_sections": []
    },
    "kernelspec": {
      "name": "python3",
      "display_name": "Python 3"
    }
  },
  "cells": [
    {
      "cell_type": "markdown",
      "metadata": {
        "id": "l62yEFq3KpNu"
      },
      "source": [
        "**IMPORT TENSORFLOW**"
      ]
    },
    {
      "cell_type": "code",
      "metadata": {
        "id": "WoSgHoh35yJP"
      },
      "source": [
        "import tensorflow as tf"
      ],
      "execution_count": 1,
      "outputs": []
    },
    {
      "cell_type": "markdown",
      "metadata": {
        "id": "azxSdn1JK0Iq"
      },
      "source": [
        "**IMPORT DATASETS**"
      ]
    },
    {
      "cell_type": "code",
      "metadata": {
        "id": "JyZAt9d_8Tvd",
        "colab": {
          "base_uri": "https://localhost:8080/"
        },
        "outputId": "e02aba19-833c-4f77-9644-9ba47704bc7f"
      },
      "source": [
        "mnist = tf.keras.datasets.mnist\r\n",
        "(Train_X, Train_Y), (Test_X, Test_Y) = mnist.load_data()\r\n",
        "Train_X, Test_X = Train_X / 255.0, Test_X / 255.0 "
      ],
      "execution_count": 2,
      "outputs": [
        {
          "output_type": "stream",
          "text": [
            "Downloading data from https://storage.googleapis.com/tensorflow/tf-keras-datasets/mnist.npz\n",
            "11493376/11490434 [==============================] - 0s 0us/step\n"
          ],
          "name": "stdout"
        }
      ]
    },
    {
      "cell_type": "code",
      "metadata": {
        "colab": {
          "base_uri": "https://localhost:8080/"
        },
        "id": "ndC9KasU9l9b",
        "outputId": "1bd738ba-96b5-449b-8727-9c568afd9b7e"
      },
      "source": [
        "print(Train_X.shape)\r\n",
        "print(Train_Y.shape)"
      ],
      "execution_count": 3,
      "outputs": [
        {
          "output_type": "stream",
          "text": [
            "(60000, 28, 28)\n",
            "(60000,)\n"
          ],
          "name": "stdout"
        }
      ]
    },
    {
      "cell_type": "code",
      "metadata": {
        "colab": {
          "base_uri": "https://localhost:8080/"
        },
        "id": "18EZcCBC95gd",
        "outputId": "04b0785f-c1b9-49ea-fc78-4a45de158386"
      },
      "source": [
        "print(Test_X.shape)\r\n",
        "print(Test_Y.shape)"
      ],
      "execution_count": 4,
      "outputs": [
        {
          "output_type": "stream",
          "text": [
            "(10000, 28, 28)\n",
            "(10000,)\n"
          ],
          "name": "stdout"
        }
      ]
    },
    {
      "cell_type": "markdown",
      "metadata": {
        "id": "bXzFtVsLK6fS"
      },
      "source": [
        "**CREATE MODEL**"
      ]
    },
    {
      "cell_type": "code",
      "metadata": {
        "id": "i6nneBUb-HNF"
      },
      "source": [
        "model = tf.keras.models.Sequential([\r\n",
        "                                    tf.keras.layers.Flatten(input_shape=(28, 28)),\r\n",
        "                                    tf.keras.layers.Dense(128, activation='relu'),\r\n",
        "                                    tf.keras.layers.Dropout(0.2),\r\n",
        "                                    tf.keras.layers.Dense(10)                                    \r\n",
        "])"
      ],
      "execution_count": 5,
      "outputs": []
    },
    {
      "cell_type": "code",
      "metadata": {
        "id": "XZudKAU4B80W"
      },
      "source": [
        "loss_fn = tf.keras.losses.SparseCategoricalCrossentropy(from_logits=True)\r\n",
        "model.compile(optimizer='adam', loss=loss_fn, metrics=['accuracy'])"
      ],
      "execution_count": 6,
      "outputs": []
    },
    {
      "cell_type": "markdown",
      "metadata": {
        "id": "NuxX9s0mLIEf"
      },
      "source": [
        "**TRAIN MODEL**\r\n",
        "The more the \"epochs\", the more accurate it will be."
      ]
    },
    {
      "cell_type": "code",
      "metadata": {
        "colab": {
          "base_uri": "https://localhost:8080/"
        },
        "id": "sZHx_MlvCb3q",
        "outputId": "f8ed109b-0392-4e4d-87c7-231620b7d250"
      },
      "source": [
        "model.fit(Train_X, Train_Y, epochs=50)"
      ],
      "execution_count": 7,
      "outputs": [
        {
          "output_type": "stream",
          "text": [
            "Epoch 1/50\n",
            "1875/1875 [==============================] - 4s 2ms/step - loss: 0.4827 - accuracy: 0.8623\n",
            "Epoch 2/50\n",
            "1875/1875 [==============================] - 3s 2ms/step - loss: 0.1520 - accuracy: 0.9557\n",
            "Epoch 3/50\n",
            "1875/1875 [==============================] - 3s 2ms/step - loss: 0.1038 - accuracy: 0.9685\n",
            "Epoch 4/50\n",
            "1875/1875 [==============================] - 3s 2ms/step - loss: 0.0854 - accuracy: 0.9737\n",
            "Epoch 5/50\n",
            "1875/1875 [==============================] - 3s 2ms/step - loss: 0.0730 - accuracy: 0.9774\n",
            "Epoch 6/50\n",
            "1875/1875 [==============================] - 3s 2ms/step - loss: 0.0651 - accuracy: 0.9796\n",
            "Epoch 7/50\n",
            "1875/1875 [==============================] - 3s 2ms/step - loss: 0.0525 - accuracy: 0.9834\n",
            "Epoch 8/50\n",
            "1875/1875 [==============================] - 3s 2ms/step - loss: 0.0491 - accuracy: 0.9843\n",
            "Epoch 9/50\n",
            "1875/1875 [==============================] - 3s 2ms/step - loss: 0.0470 - accuracy: 0.9848\n",
            "Epoch 10/50\n",
            "1875/1875 [==============================] - 3s 2ms/step - loss: 0.0415 - accuracy: 0.9856\n",
            "Epoch 11/50\n",
            "1875/1875 [==============================] - 3s 2ms/step - loss: 0.0389 - accuracy: 0.9871\n",
            "Epoch 12/50\n",
            "1875/1875 [==============================] - 4s 2ms/step - loss: 0.0370 - accuracy: 0.9875\n",
            "Epoch 13/50\n",
            "1875/1875 [==============================] - 4s 2ms/step - loss: 0.0332 - accuracy: 0.9889\n",
            "Epoch 14/50\n",
            "1875/1875 [==============================] - 4s 2ms/step - loss: 0.0291 - accuracy: 0.9898\n",
            "Epoch 15/50\n",
            "1875/1875 [==============================] - 3s 2ms/step - loss: 0.0308 - accuracy: 0.9899\n",
            "Epoch 16/50\n",
            "1875/1875 [==============================] - 3s 2ms/step - loss: 0.0298 - accuracy: 0.9895\n",
            "Epoch 17/50\n",
            "1875/1875 [==============================] - 3s 2ms/step - loss: 0.0268 - accuracy: 0.9906\n",
            "Epoch 18/50\n",
            "1875/1875 [==============================] - 3s 2ms/step - loss: 0.0266 - accuracy: 0.9912\n",
            "Epoch 19/50\n",
            "1875/1875 [==============================] - 3s 2ms/step - loss: 0.0290 - accuracy: 0.9901\n",
            "Epoch 20/50\n",
            "1875/1875 [==============================] - 3s 2ms/step - loss: 0.0261 - accuracy: 0.9910\n",
            "Epoch 21/50\n",
            "1875/1875 [==============================] - 3s 2ms/step - loss: 0.0218 - accuracy: 0.9929\n",
            "Epoch 22/50\n",
            "1875/1875 [==============================] - 3s 2ms/step - loss: 0.0225 - accuracy: 0.9925\n",
            "Epoch 23/50\n",
            "1875/1875 [==============================] - 3s 2ms/step - loss: 0.0216 - accuracy: 0.9923\n",
            "Epoch 24/50\n",
            "1875/1875 [==============================] - 3s 2ms/step - loss: 0.0226 - accuracy: 0.9919\n",
            "Epoch 25/50\n",
            "1875/1875 [==============================] - 3s 2ms/step - loss: 0.0206 - accuracy: 0.9926\n",
            "Epoch 26/50\n",
            "1875/1875 [==============================] - 3s 2ms/step - loss: 0.0202 - accuracy: 0.9933\n",
            "Epoch 27/50\n",
            "1875/1875 [==============================] - 3s 2ms/step - loss: 0.0182 - accuracy: 0.9937\n",
            "Epoch 28/50\n",
            "1875/1875 [==============================] - 3s 2ms/step - loss: 0.0197 - accuracy: 0.9929\n",
            "Epoch 29/50\n",
            "1875/1875 [==============================] - 3s 2ms/step - loss: 0.0195 - accuracy: 0.9937\n",
            "Epoch 30/50\n",
            "1875/1875 [==============================] - 3s 2ms/step - loss: 0.0189 - accuracy: 0.9935\n",
            "Epoch 31/50\n",
            "1875/1875 [==============================] - 3s 2ms/step - loss: 0.0204 - accuracy: 0.9927\n",
            "Epoch 32/50\n",
            "1875/1875 [==============================] - 3s 2ms/step - loss: 0.0183 - accuracy: 0.9935\n",
            "Epoch 33/50\n",
            "1875/1875 [==============================] - 3s 2ms/step - loss: 0.0177 - accuracy: 0.9933\n",
            "Epoch 34/50\n",
            "1875/1875 [==============================] - 3s 2ms/step - loss: 0.0186 - accuracy: 0.9939\n",
            "Epoch 35/50\n",
            "1875/1875 [==============================] - 3s 2ms/step - loss: 0.0183 - accuracy: 0.9937\n",
            "Epoch 36/50\n",
            "1875/1875 [==============================] - 3s 2ms/step - loss: 0.0169 - accuracy: 0.9939\n",
            "Epoch 37/50\n",
            "1875/1875 [==============================] - 3s 2ms/step - loss: 0.0175 - accuracy: 0.9942\n",
            "Epoch 38/50\n",
            "1875/1875 [==============================] - 3s 2ms/step - loss: 0.0155 - accuracy: 0.9946\n",
            "Epoch 39/50\n",
            "1875/1875 [==============================] - 3s 2ms/step - loss: 0.0152 - accuracy: 0.9948\n",
            "Epoch 40/50\n",
            "1875/1875 [==============================] - 3s 2ms/step - loss: 0.0180 - accuracy: 0.9937\n",
            "Epoch 41/50\n",
            "1875/1875 [==============================] - 3s 2ms/step - loss: 0.0150 - accuracy: 0.9950\n",
            "Epoch 42/50\n",
            "1875/1875 [==============================] - 3s 2ms/step - loss: 0.0180 - accuracy: 0.9946\n",
            "Epoch 43/50\n",
            "1875/1875 [==============================] - 3s 2ms/step - loss: 0.0158 - accuracy: 0.9946\n",
            "Epoch 44/50\n",
            "1875/1875 [==============================] - 3s 2ms/step - loss: 0.0147 - accuracy: 0.9952\n",
            "Epoch 45/50\n",
            "1875/1875 [==============================] - 3s 2ms/step - loss: 0.0162 - accuracy: 0.9946\n",
            "Epoch 46/50\n",
            "1875/1875 [==============================] - 3s 2ms/step - loss: 0.0138 - accuracy: 0.9957\n",
            "Epoch 47/50\n",
            "1875/1875 [==============================] - 3s 2ms/step - loss: 0.0138 - accuracy: 0.9954\n",
            "Epoch 48/50\n",
            "1875/1875 [==============================] - 3s 2ms/step - loss: 0.0163 - accuracy: 0.9949\n",
            "Epoch 49/50\n",
            "1875/1875 [==============================] - 3s 2ms/step - loss: 0.0147 - accuracy: 0.9953\n",
            "Epoch 50/50\n",
            "1875/1875 [==============================] - 4s 2ms/step - loss: 0.0136 - accuracy: 0.9952\n"
          ],
          "name": "stdout"
        },
        {
          "output_type": "execute_result",
          "data": {
            "text/plain": [
              "<tensorflow.python.keras.callbacks.History at 0x7fb25faa6c18>"
            ]
          },
          "metadata": {
            "tags": []
          },
          "execution_count": 7
        }
      ]
    },
    {
      "cell_type": "code",
      "metadata": {
        "colab": {
          "base_uri": "https://localhost:8080/"
        },
        "id": "UPfPL3KoDKi8",
        "outputId": "020c41a3-4e3c-4c83-9fab-6baedd08719d"
      },
      "source": [
        "model.evaluate(Test_X, Test_Y)"
      ],
      "execution_count": 8,
      "outputs": [
        {
          "output_type": "stream",
          "text": [
            "313/313 [==============================] - 1s 1ms/step - loss: 0.1090 - accuracy: 0.9814\n"
          ],
          "name": "stdout"
        },
        {
          "output_type": "execute_result",
          "data": {
            "text/plain": [
              "[0.10896465182304382, 0.9814000129699707]"
            ]
          },
          "metadata": {
            "tags": []
          },
          "execution_count": 8
        }
      ]
    },
    {
      "cell_type": "code",
      "metadata": {
        "colab": {
          "base_uri": "https://localhost:8080/"
        },
        "id": "Q5Um4jEt9qG4",
        "outputId": "f98c1f73-c3a7-454d-aa02-b42ecab1c6b2"
      },
      "source": [
        "predictions = model(Train_X[:1]).numpy()\r\n",
        "predictions"
      ],
      "execution_count": 9,
      "outputs": [
        {
          "output_type": "execute_result",
          "data": {
            "text/plain": [
              "array([[-53.979805, -34.790516, -33.730343,  15.625871, -97.19039 ,\n",
              "         32.81124 , -55.103397, -38.011066, -34.371796, -14.266312]],\n",
              "      dtype=float32)"
            ]
          },
          "metadata": {
            "tags": []
          },
          "execution_count": 9
        }
      ]
    },
    {
      "cell_type": "code",
      "metadata": {
        "colab": {
          "base_uri": "https://localhost:8080/"
        },
        "id": "ABbzc16L94gp",
        "outputId": "e7b83ba9-1f18-478a-e38c-11a70d9ea43b"
      },
      "source": [
        "tf.nn.softmax(predictions).numpy()"
      ],
      "execution_count": 10,
      "outputs": [
        {
          "output_type": "execute_result",
          "data": {
            "text/plain": [
              "array([[2.0282789e-38, 4.3744993e-30, 1.2628709e-29, 3.4394425e-08,\n",
              "        0.0000000e+00, 1.0000000e+00, 0.0000000e+00, 1.7468718e-31,\n",
              "        6.6493296e-30, 3.5849127e-21]], dtype=float32)"
            ]
          },
          "metadata": {
            "tags": []
          },
          "execution_count": 10
        }
      ]
    },
    {
      "cell_type": "markdown",
      "metadata": {
        "id": "8YiKljPfLQjv"
      },
      "source": [
        "**IMPORT IMAGE**"
      ]
    },
    {
      "cell_type": "code",
      "metadata": {
        "id": "fpccviQVDTPE"
      },
      "source": [
        "from PIL import Image\r\n",
        "from IPython.display import display"
      ],
      "execution_count": 11,
      "outputs": []
    },
    {
      "cell_type": "code",
      "metadata": {
        "colab": {
          "base_uri": "https://localhost:8080/",
          "height": 45
        },
        "id": "P-4ko8fjD3UX",
        "outputId": "f81b8d77-8a9d-4e78-eb6f-f2dfe53d8669"
      },
      "source": [
        "pic0 = Image.open('pic0.bmp')\r\n",
        "display(pic0)"
      ],
      "execution_count": 12,
      "outputs": [
        {
          "output_type": "display_data",
          "data": {
            "image/png": "[encoded data removed]",
            "text/plain": [
              "<PIL.PngImagePlugin.PngImageFile image mode=L size=28x28 at 0x7FB2587EF0F0>"
            ]
          },
          "metadata": {
            "tags": []
          }
        }
      ]
    },
    {
      "cell_type": "markdown",
      "metadata": {
        "id": "EFZ2Yq_eLcxP"
      },
      "source": [
        "**CONVERT IMAGE TO ARRAY**"
      ]
    },
    {
      "cell_type": "code",
      "metadata": {
        "id": "1o9wnPaVEJ2q"
      },
      "source": [
        "import numpy as np\r\n",
        "pic0 = np.resize(pic0, (28,28))\r\n",
        "im2arr = np.array(pic0)\r\n",
        "im2arr = im2arr.reshape(1,28,28)"
      ],
      "execution_count": 13,
      "outputs": []
    },
    {
      "cell_type": "markdown",
      "metadata": {
        "id": "2KMlcDUfLicp"
      },
      "source": [
        "**IMPLEMENT MODEL**"
      ]
    },
    {
      "cell_type": "code",
      "metadata": {
        "id": "cTHHgQvYEgkb",
        "colab": {
          "base_uri": "https://localhost:8080/"
        },
        "outputId": "573620c8-6c90-4b5c-f39a-a4520d1c51b1"
      },
      "source": [
        "Pred_Y = model.predict(im2arr)\n",
        "print(Pred_Y)"
      ],
      "execution_count": 14,
      "outputs": [
        {
          "output_type": "stream",
          "text": [
            "[[-9336.695  -1124.1628 -8704.091  -4902.5845  2759.377  -1818.7526\n",
            "  -6896.232  -2930.2637 -2628.7822 -3449.9922]]\n"
          ],
          "name": "stdout"
        }
      ]
    },
    {
      "cell_type": "code",
      "metadata": {
        "colab": {
          "base_uri": "https://localhost:8080/"
        },
        "id": "cVzogb6J9-7y",
        "outputId": "763601dc-3854-4a4e-cacf-ca9692e325d7"
      },
      "source": [
        "Prob_Y = tf.nn.softmax(Pred_Y).numpy()\r\n",
        "print(Prob_Y)"
      ],
      "execution_count": 15,
      "outputs": [
        {
          "output_type": "stream",
          "text": [
            "[[0. 0. 0. 0. 1. 0. 0. 0. 0. 0.]]\n"
          ],
          "name": "stdout"
        }
      ]
    },
    {
      "cell_type": "markdown",
      "metadata": {
        "id": "ew2VyTAtLoGD"
      },
      "source": [
        "**PRINT RESULT**"
      ]
    },
    {
      "cell_type": "markdown",
      "metadata": {
        "id": "XfWQf6X6HrXt"
      },
      "source": [
        "**Argmax** = Printing Array's Index with the **highest value**"
      ]
    },
    {
      "cell_type": "code",
      "metadata": {
        "id": "C9YN42B8FOMq",
        "colab": {
          "base_uri": "https://localhost:8080/"
        },
        "outputId": "514f357c-5c50-44c0-d6ca-bb285c0d6caf"
      },
      "source": [
        "Hat_Y = np.argmax(Pred_Y)\r\n",
        "print(\"The number is : \", Hat_Y, \"With the Prediction Value of : \", max(Pred_Y[0]), \"and the Probability of : \", max(Prob_Y[0]) )"
      ],
      "execution_count": 16,
      "outputs": [
        {
          "output_type": "stream",
          "text": [
            "The number is :  4 With the Prediction Value of :  2759.377 and the Probability of :  1.0\n"
          ],
          "name": "stdout"
        }
      ]
    },
    {
      "cell_type": "code",
      "metadata": {
        "id": "6-03s3im0zhk",
        "colab": {
          "base_uri": "https://localhost:8080/",
          "height": 45
        },
        "outputId": "6cfdcd7b-ae7d-4c5c-df60-bdd07a512c34"
      },
      "source": [
        "pic1 = Image.open('pic1.bmp')\r\n",
        "display(pic1)"
      ],
      "execution_count": 17,
      "outputs": [
        {
          "output_type": "display_data",
          "data": {
            "image/png": "[encoded data removed]",
            "text/plain": [
              "<PIL.PngImagePlugin.PngImageFile image mode=L size=28x28 at 0x7FB2587D62E8>"
            ]
          },
          "metadata": {
            "tags": []
          }
        }
      ]
    },
    {
      "cell_type": "code",
      "metadata": {
        "id": "C0-LXScc0oJB"
      },
      "source": [
        "import numpy as np\r\n",
        "pic1 = np.resize(pic1, (28,28))\r\n",
        "im2arr = np.array(pic1)\r\n",
        "im2arr = im2arr.reshape(1,28,28)"
      ],
      "execution_count": 18,
      "outputs": []
    },
    {
      "cell_type": "code",
      "metadata": {
        "id": "R8u0CKNT0oJF",
        "colab": {
          "base_uri": "https://localhost:8080/"
        },
        "outputId": "cfb23ed7-00a4-4595-ac0b-8c5141828a73"
      },
      "source": [
        "Pred_Y = model.predict(im2arr)\n",
        "print(Pred_Y)"
      ],
      "execution_count": 19,
      "outputs": [
        {
          "output_type": "stream",
          "text": [
            "[[-7142.0845  3541.2817 -3245.7446 -4089.7983 -3576.26   -8130.703\n",
            "  -7453.9067   733.9093 -1504.1931 -6021.4536]]\n"
          ],
          "name": "stdout"
        }
      ]
    },
    {
      "cell_type": "code",
      "metadata": {
        "colab": {
          "base_uri": "https://localhost:8080/"
        },
        "id": "Zh-uFcXf_TfL",
        "outputId": "264a4b24-6c43-4493-bece-a487fdbd4c60"
      },
      "source": [
        "Prob_Y = tf.nn.softmax(Pred_Y).numpy()\r\n",
        "print(Prob_Y)"
      ],
      "execution_count": 20,
      "outputs": [
        {
          "output_type": "stream",
          "text": [
            "[[0. 1. 0. 0. 0. 0. 0. 0. 0. 0.]]\n"
          ],
          "name": "stdout"
        }
      ]
    },
    {
      "cell_type": "code",
      "metadata": {
        "id": "vh6I_8hC0oJM",
        "colab": {
          "base_uri": "https://localhost:8080/"
        },
        "outputId": "c820e6fc-cf88-40f1-c407-cf4f29496532"
      },
      "source": [
        "Hat_Y = np.argmax(Pred_Y)\r\n",
        "print(\"The number is : \", Hat_Y, \"With the Prediction Value of : \", max(Pred_Y[0]), \"and the Probability of : \", max(Prob_Y[0]) )"
      ],
      "execution_count": 21,
      "outputs": [
        {
          "output_type": "stream",
          "text": [
            "The number is :  1 With the Prediction Value of :  3541.2817 and the Probability of :  1.0\n"
          ],
          "name": "stdout"
        }
      ]
    },
    {
      "cell_type": "code",
      "metadata": {
        "id": "LaRAuGO5122G",
        "colab": {
          "base_uri": "https://localhost:8080/",
          "height": 45
        },
        "outputId": "17cb9a75-1aa8-4475-f203-92034dae6037"
      },
      "source": [
        "pic2 = Image.open('pic2.bmp')\r\n",
        "display(pic2)"
      ],
      "execution_count": 22,
      "outputs": [
        {
          "output_type": "display_data",
          "data": {
            "image/png": "[encoded data removed]",
            "text/plain": [
              "<PIL.PngImagePlugin.PngImageFile image mode=L size=28x28 at 0x7FB257F27320>"
            ]
          },
          "metadata": {
            "tags": []
          }
        }
      ]
    },
    {
      "cell_type": "code",
      "metadata": {
        "id": "ZUmzb0tu122e"
      },
      "source": [
        "import numpy as np\r\n",
        "pic2 = np.resize(pic2, (28,28))\r\n",
        "im2arr = np.array(pic2)\r\n",
        "im2arr = im2arr.reshape(1,28,28)"
      ],
      "execution_count": 23,
      "outputs": []
    },
    {
      "cell_type": "code",
      "metadata": {
        "id": "0wPWoJ5-122f",
        "colab": {
          "base_uri": "https://localhost:8080/"
        },
        "outputId": "e7418813-7b03-4afc-afb9-6498e714ec1f"
      },
      "source": [
        "Pred_Y = model.predict(im2arr)\n",
        "print(Pred_Y)"
      ],
      "execution_count": 24,
      "outputs": [
        {
          "output_type": "stream",
          "text": [
            "[[  5625.2964  -13145.382     -213.98933  -4722.8496   -5474.9062\n",
            "   -8105.8823   -2065.6973   -5903.319    -5151.3965   -3785.5112 ]]\n"
          ],
          "name": "stdout"
        }
      ]
    },
    {
      "cell_type": "code",
      "metadata": {
        "colab": {
          "base_uri": "https://localhost:8080/"
        },
        "id": "dmhKOitN_YGx",
        "outputId": "215419fb-d468-4631-fe7e-954b196ed317"
      },
      "source": [
        "Prob_Y = tf.nn.softmax(Pred_Y).numpy()\r\n",
        "print(Prob_Y)"
      ],
      "execution_count": 25,
      "outputs": [
        {
          "output_type": "stream",
          "text": [
            "[[1. 0. 0. 0. 0. 0. 0. 0. 0. 0.]]\n"
          ],
          "name": "stdout"
        }
      ]
    },
    {
      "cell_type": "code",
      "metadata": {
        "colab": {
          "base_uri": "https://localhost:8080/"
        },
        "id": "pOp8ho3J_YHN",
        "outputId": "a860bef5-6890-4713-fe8a-a895ca7bb7dc"
      },
      "source": [
        "Hat_Y = np.argmax(Pred_Y)\r\n",
        "print(\"The number is : \", Hat_Y, \"With the Prediction Value of : \", max(Pred_Y[0]), \"and the Probability of : \", max(Prob_Y[0]) )"
      ],
      "execution_count": 26,
      "outputs": [
        {
          "output_type": "stream",
          "text": [
            "The number is :  0 With the Prediction Value of :  5625.2964 and the Probability of :  1.0\n"
          ],
          "name": "stdout"
        }
      ]
    },
    {
      "cell_type": "code",
      "metadata": {
        "id": "-DmLwuUQ17yb",
        "colab": {
          "base_uri": "https://localhost:8080/",
          "height": 45
        },
        "outputId": "aee9c6dd-100d-45ff-fd67-66fc660dc7f1"
      },
      "source": [
        "pic3 = Image.open('pic3.bmp')\r\n",
        "display(pic3)"
      ],
      "execution_count": 27,
      "outputs": [
        {
          "output_type": "display_data",
          "data": {
            "image/png": "[encoded data removed]",
            "text/plain": [
              "<PIL.PngImagePlugin.PngImageFile image mode=L size=28x28 at 0x7FB257EF3780>"
            ]
          },
          "metadata": {
            "tags": []
          }
        }
      ]
    },
    {
      "cell_type": "code",
      "metadata": {
        "id": "L0GMrbEI17yd"
      },
      "source": [
        "import numpy as np\r\n",
        "pic3 = np.resize(pic3, (28,28))\r\n",
        "im2arr = np.array(pic3)\r\n",
        "im2arr = im2arr.reshape(1,28,28)"
      ],
      "execution_count": 28,
      "outputs": []
    },
    {
      "cell_type": "code",
      "metadata": {
        "id": "KEI4MNIV17yf",
        "colab": {
          "base_uri": "https://localhost:8080/"
        },
        "outputId": "31e8da5b-0c43-4c16-97e3-fd8a98051628"
      },
      "source": [
        "Pred_Y = model.predict(im2arr)\n",
        "print(Pred_Y)"
      ],
      "execution_count": 29,
      "outputs": [
        {
          "output_type": "stream",
          "text": [
            "[[ -5171.8306 -12026.03    -1760.9655  -3272.4983  -5738.7417  -6159.0396\n",
            "  -11916.572    5009.0415  -6448.1562   -673.3128]]\n"
          ],
          "name": "stdout"
        }
      ]
    },
    {
      "cell_type": "code",
      "metadata": {
        "colab": {
          "base_uri": "https://localhost:8080/"
        },
        "id": "R0WKLCss_cdh",
        "outputId": "88837fe9-d1ac-44b5-e861-fde6c25a6794"
      },
      "source": [
        "Prob_Y = tf.nn.softmax(Pred_Y).numpy()\r\n",
        "print(Prob_Y)"
      ],
      "execution_count": 30,
      "outputs": [
        {
          "output_type": "stream",
          "text": [
            "[[0. 0. 0. 0. 0. 0. 0. 1. 0. 0.]]\n"
          ],
          "name": "stdout"
        }
      ]
    },
    {
      "cell_type": "code",
      "metadata": {
        "colab": {
          "base_uri": "https://localhost:8080/"
        },
        "id": "OHTkgjVq_cdj",
        "outputId": "34e29a01-e3d5-499a-8536-d7a0e1f01eba"
      },
      "source": [
        "Hat_Y = np.argmax(Pred_Y)\r\n",
        "print(\"The number is : \", Hat_Y, \"With the Prediction Value of : \", max(Pred_Y[0]), \"and the Probability of : \", max(Prob_Y[0]) )"
      ],
      "execution_count": 31,
      "outputs": [
        {
          "output_type": "stream",
          "text": [
            "The number is :  7 With the Prediction Value of :  5009.0415 and the Probability of :  1.0\n"
          ],
          "name": "stdout"
        }
      ]
    },
    {
      "cell_type": "code",
      "metadata": {
        "id": "dg-9Y3YP2Av1",
        "colab": {
          "base_uri": "https://localhost:8080/",
          "height": 45
        },
        "outputId": "7d2679ae-b854-4a03-a1b5-12bdb5d37aea"
      },
      "source": [
        "pic4 = Image.open('pic4.bmp')\r\n",
        "display(pic4)"
      ],
      "execution_count": 32,
      "outputs": [
        {
          "output_type": "display_data",
          "data": {
            "image/png": "[encoded data removed]",
            "text/plain": [
              "<PIL.PngImagePlugin.PngImageFile image mode=L size=28x28 at 0x7FB257696EB8>"
            ]
          },
          "metadata": {
            "tags": []
          }
        }
      ]
    },
    {
      "cell_type": "code",
      "metadata": {
        "id": "vwuvrpkp2Av3"
      },
      "source": [
        "import numpy as np\r\n",
        "pic4 = np.resize(pic4, (28,28))\r\n",
        "im2arr = np.array(pic4)\r\n",
        "im2arr = im2arr.reshape(1,28,28)"
      ],
      "execution_count": 33,
      "outputs": []
    },
    {
      "cell_type": "code",
      "metadata": {
        "id": "xdibfcOx2Av4",
        "colab": {
          "base_uri": "https://localhost:8080/"
        },
        "outputId": "915bc61e-5576-4c3d-a6ea-660a1050b1ad"
      },
      "source": [
        "Pred_Y = model.predict(im2arr)\n",
        "print(Pred_Y)"
      ],
      "execution_count": 34,
      "outputs": [
        {
          "output_type": "stream",
          "text": [
            "[[-6753.093  -6006.9355 -2338.3748   802.6687 -6566.834  -2006.4211\n",
            "  -9437.753  -2160.6936  3671.0962 -1275.135 ]]\n"
          ],
          "name": "stdout"
        }
      ]
    },
    {
      "cell_type": "code",
      "metadata": {
        "colab": {
          "base_uri": "https://localhost:8080/"
        },
        "id": "2ck_Wko9_fx3",
        "outputId": "cb5acfe7-f34a-417c-c48e-cbb98b6091ca"
      },
      "source": [
        "Prob_Y = tf.nn.softmax(Pred_Y).numpy()\r\n",
        "print(Prob_Y)"
      ],
      "execution_count": 35,
      "outputs": [
        {
          "output_type": "stream",
          "text": [
            "[[0. 0. 0. 0. 0. 0. 0. 0. 1. 0.]]\n"
          ],
          "name": "stdout"
        }
      ]
    },
    {
      "cell_type": "code",
      "metadata": {
        "colab": {
          "base_uri": "https://localhost:8080/"
        },
        "id": "cGtGBG7c_fx4",
        "outputId": "0ecd33a5-eb5d-40ee-d15f-283d29223047"
      },
      "source": [
        "Hat_Y = np.argmax(Pred_Y)\r\n",
        "print(\"The number is : \", Hat_Y, \"With the Prediction Value of : \", max(Pred_Y[0]), \"and the Probability of : \", max(Prob_Y[0]) )"
      ],
      "execution_count": 36,
      "outputs": [
        {
          "output_type": "stream",
          "text": [
            "The number is :  8 With the Prediction Value of :  3671.0962 and the Probability of :  1.0\n"
          ],
          "name": "stdout"
        }
      ]
    },
    {
      "cell_type": "code",
      "metadata": {
        "id": "KLdvKL3x2Vn9",
        "colab": {
          "base_uri": "https://localhost:8080/",
          "height": 45
        },
        "outputId": "0b6cc90f-a2b5-47e5-e146-f744d9505f58"
      },
      "source": [
        "pic5 = Image.open('pic5.bmp')\r\n",
        "display(pic5)"
      ],
      "execution_count": 37,
      "outputs": [
        {
          "output_type": "display_data",
          "data": {
            "image/png": "[encoded data removed]",
            "text/plain": [
              "<PIL.PngImagePlugin.PngImageFile image mode=L size=28x28 at 0x7FB2576BC3C8>"
            ]
          },
          "metadata": {
            "tags": []
          }
        }
      ]
    },
    {
      "cell_type": "code",
      "metadata": {
        "id": "41pKmFr02Vn_"
      },
      "source": [
        "import numpy as np\r\n",
        "pic5 = np.resize(pic5, (28,28))\r\n",
        "im2arr = np.array(pic5)\r\n",
        "im2arr = im2arr.reshape(1,28,28)"
      ],
      "execution_count": 38,
      "outputs": []
    },
    {
      "cell_type": "code",
      "metadata": {
        "id": "ZHIxnF992VoA",
        "colab": {
          "base_uri": "https://localhost:8080/"
        },
        "outputId": "dc265e8a-51ef-4b70-cf1f-a2475c5f4b56"
      },
      "source": [
        "Pred_Y = model.predict(im2arr)\n",
        "print(Pred_Y)"
      ],
      "execution_count": 39,
      "outputs": [
        {
          "output_type": "stream",
          "text": [
            "[[-5510.9126  3688.4614 -4045.7988 -3958.4785 -5685.753  -4790.7227\n",
            "  -3167.6245 -1909.3865  -974.0767 -9595.026 ]]\n"
          ],
          "name": "stdout"
        }
      ]
    },
    {
      "cell_type": "code",
      "metadata": {
        "colab": {
          "base_uri": "https://localhost:8080/"
        },
        "id": "2jzJTPe1_h_J",
        "outputId": "77c1966d-10c6-4c8e-c681-4a0f16177b8d"
      },
      "source": [
        "Prob_Y = tf.nn.softmax(Pred_Y).numpy()\r\n",
        "print(Prob_Y)"
      ],
      "execution_count": 40,
      "outputs": [
        {
          "output_type": "stream",
          "text": [
            "[[0. 1. 0. 0. 0. 0. 0. 0. 0. 0.]]\n"
          ],
          "name": "stdout"
        }
      ]
    },
    {
      "cell_type": "code",
      "metadata": {
        "colab": {
          "base_uri": "https://localhost:8080/"
        },
        "id": "F1RmOpwF_h_L",
        "outputId": "814e56af-3281-4451-cb9b-1f42504bedac"
      },
      "source": [
        "Hat_Y = np.argmax(Pred_Y)\r\n",
        "print(\"The number is : \", Hat_Y, \"With the Prediction Value of : \", max(Pred_Y[0]), \"and the Probability of : \", max(Prob_Y[0]) )"
      ],
      "execution_count": 41,
      "outputs": [
        {
          "output_type": "stream",
          "text": [
            "The number is :  1 With the Prediction Value of :  3688.4614 and the Probability of :  1.0\n"
          ],
          "name": "stdout"
        }
      ]
    },
    {
      "cell_type": "code",
      "metadata": {
        "id": "fIwzqYob2a-E",
        "colab": {
          "base_uri": "https://localhost:8080/",
          "height": 45
        },
        "outputId": "cbd9c92f-199f-40bc-bd4b-63fe575f118b"
      },
      "source": [
        "pic6 = Image.open('pic6.bmp')\r\n",
        "display(pic6)"
      ],
      "execution_count": 42,
      "outputs": [
        {
          "output_type": "display_data",
          "data": {
            "image/png": "[encoded data removed]",
            "text/plain": [
              "<PIL.PngImagePlugin.PngImageFile image mode=L size=28x28 at 0x7FB257EF3860>"
            ]
          },
          "metadata": {
            "tags": []
          }
        }
      ]
    },
    {
      "cell_type": "code",
      "metadata": {
        "id": "zr6kQkh92a-G"
      },
      "source": [
        "import numpy as np\r\n",
        "pic6 = np.resize(pic6, (28,28))\r\n",
        "im2arr = np.array(pic6)\r\n",
        "im2arr = im2arr.reshape(1,28,28)"
      ],
      "execution_count": 43,
      "outputs": []
    },
    {
      "cell_type": "code",
      "metadata": {
        "id": "U_fWNo2y2a-H",
        "colab": {
          "base_uri": "https://localhost:8080/"
        },
        "outputId": "0a6b4bb7-aeb5-4997-c749-c97fbce9c5f0"
      },
      "source": [
        "Pred_Y = model.predict(im2arr)\n",
        "print(Pred_Y)"
      ],
      "execution_count": 44,
      "outputs": [
        {
          "output_type": "stream",
          "text": [
            "[[ -9465.6045  -4086.0332   7968.9316  -2438.021   -9729.185   -9370.361\n",
            "  -14814.152   -1193.801  -10448.029  -19583.645 ]]\n"
          ],
          "name": "stdout"
        }
      ]
    },
    {
      "cell_type": "code",
      "metadata": {
        "colab": {
          "base_uri": "https://localhost:8080/"
        },
        "id": "Hm3Rw_wE_lXC",
        "outputId": "0b036393-3100-4af7-d17e-0f01736c7d66"
      },
      "source": [
        "Prob_Y = tf.nn.softmax(Pred_Y).numpy()\r\n",
        "print(Prob_Y)"
      ],
      "execution_count": 45,
      "outputs": [
        {
          "output_type": "stream",
          "text": [
            "[[0. 0. 1. 0. 0. 0. 0. 0. 0. 0.]]\n"
          ],
          "name": "stdout"
        }
      ]
    },
    {
      "cell_type": "code",
      "metadata": {
        "colab": {
          "base_uri": "https://localhost:8080/"
        },
        "id": "0_mVKP30_lXD",
        "outputId": "0b161027-4310-4da1-fd64-19f364f21ac7"
      },
      "source": [
        "Hat_Y = np.argmax(Pred_Y)\r\n",
        "print(\"The number is : \", Hat_Y, \"With the Prediction Value of : \", max(Pred_Y[0]), \"and the Probability of : \", max(Prob_Y[0]) )"
      ],
      "execution_count": 46,
      "outputs": [
        {
          "output_type": "stream",
          "text": [
            "The number is :  2 With the Prediction Value of :  7968.9316 and the Probability of :  1.0\n"
          ],
          "name": "stdout"
        }
      ]
    },
    {
      "cell_type": "code",
      "metadata": {
        "id": "svnBM-bX2gLj",
        "colab": {
          "base_uri": "https://localhost:8080/",
          "height": 45
        },
        "outputId": "3ab1e239-9155-433f-daa9-8b258f73695a"
      },
      "source": [
        "pic7 = Image.open('pic7.bmp')\r\n",
        "display(pic7)"
      ],
      "execution_count": 47,
      "outputs": [
        {
          "output_type": "display_data",
          "data": {
            "image/png": "[encoded data removed]",
            "text/plain": [
              "<PIL.PngImagePlugin.PngImageFile image mode=L size=28x28 at 0x7FB2576AD780>"
            ]
          },
          "metadata": {
            "tags": []
          }
        }
      ]
    },
    {
      "cell_type": "code",
      "metadata": {
        "id": "MofMmFgu2gLl"
      },
      "source": [
        "import numpy as np\r\n",
        "pic7 = np.resize(pic7, (28,28))\r\n",
        "im2arr = np.array(pic7)\r\n",
        "im2arr = im2arr.reshape(1,28,28)"
      ],
      "execution_count": 48,
      "outputs": []
    },
    {
      "cell_type": "code",
      "metadata": {
        "id": "-DHozbKW2gLm",
        "colab": {
          "base_uri": "https://localhost:8080/"
        },
        "outputId": "163ff154-8f72-4583-b972-803b160dd33d"
      },
      "source": [
        "Pred_Y = model.predict(im2arr)\n",
        "print(Pred_Y)"
      ],
      "execution_count": 49,
      "outputs": [
        {
          "output_type": "stream",
          "text": [
            "[[-11925.356    -1690.4038   -2575.2988     230.21034  -8993.615\n",
            "   -8465.302   -14034.765     4410.278    -5997.854    -4379.4717 ]]\n"
          ],
          "name": "stdout"
        }
      ]
    },
    {
      "cell_type": "code",
      "metadata": {
        "colab": {
          "base_uri": "https://localhost:8080/"
        },
        "id": "vdJ48zoT_oJc",
        "outputId": "ee834c51-2cb2-4750-bd10-1d396086fb44"
      },
      "source": [
        "Prob_Y = tf.nn.softmax(Pred_Y).numpy()\r\n",
        "print(Prob_Y)"
      ],
      "execution_count": 50,
      "outputs": [
        {
          "output_type": "stream",
          "text": [
            "[[0. 0. 0. 0. 0. 0. 0. 1. 0. 0.]]\n"
          ],
          "name": "stdout"
        }
      ]
    },
    {
      "cell_type": "code",
      "metadata": {
        "colab": {
          "base_uri": "https://localhost:8080/"
        },
        "id": "qEVn5Zuf_oJd",
        "outputId": "77160221-f11d-443a-d660-9255dca422d4"
      },
      "source": [
        "Hat_Y = np.argmax(Pred_Y)\r\n",
        "print(\"The number is : \", Hat_Y, \"With the Prediction Value of : \", max(Pred_Y[0]), \"and the Probability of : \", max(Prob_Y[0]) )"
      ],
      "execution_count": 51,
      "outputs": [
        {
          "output_type": "stream",
          "text": [
            "The number is :  7 With the Prediction Value of :  4410.278 and the Probability of :  1.0\n"
          ],
          "name": "stdout"
        }
      ]
    },
    {
      "cell_type": "code",
      "metadata": {
        "id": "ow1a4uAH2lsM",
        "colab": {
          "base_uri": "https://localhost:8080/",
          "height": 45
        },
        "outputId": "e4082a52-0e3b-4f3c-90c0-e037b88002dc"
      },
      "source": [
        "pic8 = Image.open('pic8.bmp')\r\n",
        "display(pic8)"
      ],
      "execution_count": 52,
      "outputs": [
        {
          "output_type": "display_data",
          "data": {
            "image/png": "[encoded data removed]",
            "text/plain": [
              "<PIL.PngImagePlugin.PngImageFile image mode=L size=28x28 at 0x7FB2576A1128>"
            ]
          },
          "metadata": {
            "tags": []
          }
        }
      ]
    },
    {
      "cell_type": "code",
      "metadata": {
        "id": "9C4ajtLF2lsO"
      },
      "source": [
        "import numpy as np\r\n",
        "pic8 = np.resize(pic8, (28,28))\r\n",
        "im2arr = np.array(pic8)\r\n",
        "im2arr = im2arr.reshape(1,28,28)"
      ],
      "execution_count": 53,
      "outputs": []
    },
    {
      "cell_type": "code",
      "metadata": {
        "id": "T7RI14JP2lsP",
        "colab": {
          "base_uri": "https://localhost:8080/"
        },
        "outputId": "1633a169-13e2-4942-d20a-cb9bd16674ba"
      },
      "source": [
        "Pred_Y = model.predict(im2arr)\n",
        "print(Pred_Y)"
      ],
      "execution_count": 54,
      "outputs": [
        {
          "output_type": "stream",
          "text": [
            "[[ -8442.924    6002.546   -5081.6367  -6638.1055  -3619.7197  -7573.907\n",
            "   -7553.4556  -3528.1729  -3184.8596 -13472.825 ]]\n"
          ],
          "name": "stdout"
        }
      ]
    },
    {
      "cell_type": "code",
      "metadata": {
        "colab": {
          "base_uri": "https://localhost:8080/"
        },
        "id": "Crd_wT1c_roo",
        "outputId": "7e74ddd2-7d69-44c8-eb00-20cefa3f53cc"
      },
      "source": [
        "Prob_Y = tf.nn.softmax(Pred_Y).numpy()\r\n",
        "print(Prob_Y)"
      ],
      "execution_count": 55,
      "outputs": [
        {
          "output_type": "stream",
          "text": [
            "[[0. 1. 0. 0. 0. 0. 0. 0. 0. 0.]]\n"
          ],
          "name": "stdout"
        }
      ]
    },
    {
      "cell_type": "code",
      "metadata": {
        "colab": {
          "base_uri": "https://localhost:8080/"
        },
        "id": "AEh_9tuc_ror",
        "outputId": "099d639b-9b01-4e04-f5ad-1737bb4b2312"
      },
      "source": [
        "Hat_Y = np.argmax(Pred_Y)\r\n",
        "print(\"The number is : \", Hat_Y, \"With the Prediction Value of : \", max(Pred_Y[0]), \"and the Probability of : \", max(Prob_Y[0]) )"
      ],
      "execution_count": 56,
      "outputs": [
        {
          "output_type": "stream",
          "text": [
            "The number is :  1 With the Prediction Value of :  6002.546 and the Probability of :  1.0\n"
          ],
          "name": "stdout"
        }
      ]
    },
    {
      "cell_type": "code",
      "metadata": {
        "id": "biEZ5nl12qB3",
        "colab": {
          "base_uri": "https://localhost:8080/",
          "height": 45
        },
        "outputId": "aefdb2cb-34fc-4432-f12d-35de1d419f54"
      },
      "source": [
        "pic9 = Image.open('pic9.bmp')\r\n",
        "display(pic9)"
      ],
      "execution_count": 57,
      "outputs": [
        {
          "output_type": "display_data",
          "data": {
            "image/png": "[encoded data removed]",
            "text/plain": [
              "<PIL.PngImagePlugin.PngImageFile image mode=L size=28x28 at 0x7FB257ECF9B0>"
            ]
          },
          "metadata": {
            "tags": []
          }
        }
      ]
    },
    {
      "cell_type": "code",
      "metadata": {
        "id": "tjVGJAt22qB4"
      },
      "source": [
        "import numpy as np\r\n",
        "pic9 = np.resize(pic9, (28,28))\r\n",
        "im2arr = np.array(pic9)\r\n",
        "im2arr = im2arr.reshape(1,28,28)"
      ],
      "execution_count": 58,
      "outputs": []
    },
    {
      "cell_type": "code",
      "metadata": {
        "id": "3-6UKpSn2qB5",
        "colab": {
          "base_uri": "https://localhost:8080/"
        },
        "outputId": "223234da-06f2-454d-ac70-653dfafcbabe"
      },
      "source": [
        "Pred_Y = model.predict(im2arr)\n",
        "print(Pred_Y)"
      ],
      "execution_count": 59,
      "outputs": [
        {
          "output_type": "stream",
          "text": [
            "[[-6589.927  -9540.1875 -2846.985  -6508.576  -7246.513   -342.9161\n",
            "   6127.268  -8182.462  -2201.8347 -5620.4795]]\n"
          ],
          "name": "stdout"
        }
      ]
    },
    {
      "cell_type": "code",
      "metadata": {
        "colab": {
          "base_uri": "https://localhost:8080/"
        },
        "id": "AuzUYXGO_tj_",
        "outputId": "e34452d0-bee1-439d-cf11-5c7b530295bf"
      },
      "source": [
        "Prob_Y = tf.nn.softmax(Pred_Y).numpy()\r\n",
        "print(Prob_Y)"
      ],
      "execution_count": 60,
      "outputs": [
        {
          "output_type": "stream",
          "text": [
            "[[0. 0. 0. 0. 0. 0. 1. 0. 0. 0.]]\n"
          ],
          "name": "stdout"
        }
      ]
    },
    {
      "cell_type": "code",
      "metadata": {
        "colab": {
          "base_uri": "https://localhost:8080/"
        },
        "id": "uhA1EcGs_tkB",
        "outputId": "8fc6267f-483c-4d6a-b173-cbc808f58acb"
      },
      "source": [
        "Hat_Y = np.argmax(Pred_Y)\r\n",
        "print(\"The number is : \", Hat_Y, \"With the Prediction Value of : \", max(Pred_Y[0]), \"and the Probability of : \", max(Prob_Y[0]) )"
      ],
      "execution_count": 61,
      "outputs": [
        {
          "output_type": "stream",
          "text": [
            "The number is :  6 With the Prediction Value of :  6127.268 and the Probability of :  1.0\n"
          ],
          "name": "stdout"
        }
      ]
    }
  ]
}